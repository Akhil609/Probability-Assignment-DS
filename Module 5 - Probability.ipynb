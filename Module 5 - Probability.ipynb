{
 "cells": [
  {
   "cell_type": "markdown",
   "id": "7faef985-a983-4e3e-b410-f04c3e2ae711",
   "metadata": {},
   "source": [
    "# Module 5 - Probability"
   ]
  },
  {
   "cell_type": "markdown",
   "id": "8c467e82-b406-4ac8-b761-fd7ff1f3793f",
   "metadata": {},
   "source": [
    "## Basics of Probability\n"
   ]
  },
  {
   "cell_type": "markdown",
   "id": "2aff49e6-f563-4d54-b236-b55fa64ba2ff",
   "metadata": {},
   "source": [
    "1. Write a Python program to simulate the following scenarios:  \n",
    "  a. Tossing a coin 10,000 times and calculating the experimental probability of heads and tails.  \n",
    "  b. Rolling two dice and computing the probability of getting a sum of 7.  \n"
   ]
  },
  {
   "cell_type": "code",
   "execution_count": 4,
   "id": "62040f0d-e123-43da-acd1-439b93a3f138",
   "metadata": {},
   "outputs": [],
   "source": [
    "import numpy as np\n",
    "import matplotlib.pyplot as plt"
   ]
  },
  {
   "cell_type": "code",
   "execution_count": 5,
   "id": "b3276b08-bb48-4d5b-b810-da89d988a7e9",
   "metadata": {},
   "outputs": [
    {
     "name": "stdout",
     "output_type": "stream",
     "text": [
      "Number of heads: 4902\n",
      "Number of tails: 5099\n",
      "Experimental probability of heads: 0.4902\n",
      "Experimental probability of tails: 0.5099\n"
     ]
    }
   ],
   "source": [
    "coin=['head','tail']\n",
    "result=[]\n",
    "for A in range(0,10001):\n",
    "    toss=np.random.choice(coin)\n",
    "    result.append(toss)\n",
    "heads_count=result.count('head')\n",
    "tails_count=result.count('tail')\n",
    "\n",
    "probability_heads = heads_count / 10000\n",
    "probability_tails = tails_count / 10000\n",
    "\n",
    "# Printing the results\n",
    "print(f\"Number of heads: {heads_count}\")\n",
    "print(f\"Number of tails: {tails_count}\")\n",
    "print(f\"Experimental probability of heads: {probability_heads}\")\n",
    "print(f\"Experimental probability of tails: {probability_tails}\")"
   ]
  },
  {
   "cell_type": "raw",
   "id": "cd50d2aa-f15b-482d-83e1-90d2fb309487",
   "metadata": {},
   "source": [
    "first we create a list of coin's two side or what are the possible outcomes.\n",
    "-then create another list to store result of random tossing the single coin.\n",
    "-then use for loop with range upto (0 to 10001) here we use 10001 instead of 10000 because indexing in loop is like (0,n-1)\n",
    "-then we use numpy to get random choice(toss a coin) and tossing it 10000 times and store result in list named result.\n",
    "-then count the total number of head and tail.\n",
    "-in last to get experiment probability we divide the total numbers of count to 10000.(formula- experimental prb. of event =(Number of favourable outcomes /Total number of trials) and print them.\n",
    "Note---- every time we run the cell we got different result because we use random function."
   ]
  },
  {
   "cell_type": "code",
   "execution_count": 6,
   "id": "62fe3c33-51ba-4e53-8c8c-08917c3ef59b",
   "metadata": {},
   "outputs": [
    {
     "name": "stdout",
     "output_type": "stream",
     "text": [
      "output from dice_1 is = 2\n",
      "output from dice_2 is = 5\n",
      "sum 7\n",
      "output from dice_1 is = 3\n",
      "output from dice_2 is = 4\n",
      "sum 7\n",
      "output from dice_1 is = 3\n",
      "output from dice_2 is = 4\n",
      "sum 7\n",
      "number of time we got sum of 7 = 3\n",
      "experimental probalbility_of_getting_7 = 0.3\n"
     ]
    }
   ],
   "source": [
    "dice_1=[1,2,3,4,5,6]\n",
    "dice_2=[1,2,3,4,5,6]\n",
    "trial=10\n",
    "count=0\n",
    "for i in range(trial):\n",
    "    roll_1=np.random.choice(dice_1)\n",
    "    roll_2=np.random.choice(dice_2)\n",
    "    #print(\"output from dice_1 is =\", roll_1)\n",
    "    #print(\"output from dice_2 is =\", roll_2)\n",
    "\n",
    "    sum=roll_1+roll_2\n",
    "    if(sum==7):\n",
    "        print(\"output from dice_1 is =\", roll_1)\n",
    "        print(\"output from dice_2 is =\", roll_2)\n",
    "        print(\"sum\",sum)\n",
    "        count+=1\n",
    "\n",
    "print(\"number of time we got sum of 7 =\",count)\n",
    "probalbility_of_7=count/trial\n",
    "\n",
    "print(\"experimental probalbility_of_getting_7 =\",probalbility_of_7)"
   ]
  },
  {
   "cell_type": "raw",
   "id": "ba0768f4-d826-4770-a1a2-fe23185bb848",
   "metadata": {},
   "source": [
    "first we create variables for two dice having numbers on each face (1 to 6).\n",
    "-mention numbers of trail as how many times we roll the dice(you can change it).\n",
    "-we use for loop with range fuction upto trail.\n",
    "-use numpy random fuction to get random choice from 1 to 6.\n",
    "-now add sum vairable to store choices.\n",
    "-use if condition to check condition of getting sum of two roll as 7.\n",
    "-at last we use same formula as above to get experimental probablilty of getting 7 and print the result.\n",
    "note--- to know the all possibilities we can print roll_1 and roll_2 in for loop but here i comment then and use them to print in if condition to print only possibilities of getting sum of 7."
   ]
  },
  {
   "cell_type": "markdown",
   "id": "e29b55ac-1d88-446c-b9ca-fcbdec482716",
   "metadata": {},
   "source": [
    "2. Write a function to estimate the probability of getting at least one \"6\" in 10 rolls of a fair die.\n",
    "   Steps  \n",
    "      a. Simulate rolling a die 10 times using a loop.  \n",
    "      b. Track trials where at least one \"6\" occurs.  \n",
    "      c. Calculate the proportion of successful trials.\n"
   ]
  },
  {
   "cell_type": "code",
   "execution_count": 8,
   "id": "d96ffebb-0f19-4e33-a5f7-1786ee6e616b",
   "metadata": {},
   "outputs": [
    {
     "name": "stdout",
     "output_type": "stream",
     "text": [
      "successful_trials 84\n",
      "experimental probalbility_of_getting_6 = 0.84\n"
     ]
    }
   ],
   "source": [
    "dice=[1,2,3,4,5,6]\n",
    "trial=100\n",
    "count=0\n",
    "rolls_without_6=[]\n",
    "for i in range(trial):\n",
    "    rolls=np.random.choice(dice,size=10)\n",
    "    if 6 in rolls:\n",
    "        #print(rolls)\n",
    "        count=count+1\n",
    "print(\"successful_trials\",count)\n",
    "proportion_success = count/trial\n",
    "print(\"experimental probalbility_of_getting_6 =\",proportion_success)"
   ]
  },
  {
   "cell_type": "raw",
   "id": "7f2e58cf-4299-46d2-b932-b943810e46ee",
   "metadata": {},
   "source": [
    "first we create variable for dice having numbers on each face (1 to 6).\n",
    "-mention numbers of trail as how many times we roll the dice( 1 dice for 10 times to   fullfil the condition of getting 6 at least 1 time.).\n",
    "-create a count variable to count occurence of 6 for at least 1 time.\n",
    "-using for loop for to itearte our condition according to number of trial.\n",
    "-using numpy random function with shape to get 10 output in a sigle array and use if condtion to check occurence of 6 in the array.\n",
    "-option( to print the result of getting 6 at least i time use print function to print rolls.\n",
    "-if our condtion is satisfied then our count will increase and this is the successful trial we got and using above mentioned formula we can get experimental probability also."
   ]
  },
  {
   "cell_type": "markdown",
   "id": "b973b16f-9c3e-455b-970f-28f1224f5c49",
   "metadata": {},
   "source": [
    "## Conditional Probability and Bayes' Theorem\n"
   ]
  },
  {
   "cell_type": "markdown",
   "id": "3362ebfc-a7e9-448a-9092-1bf23a894d93",
   "metadata": {},
   "source": [
    "A bag contains 5 red, 7 green, and 8 blue balls. A ball is drawn randomly, its color noted, and it is put back into the bag. If this process is repeated 1000 times, write a Python program to estimate:  \n",
    "  a. The probability of drawing a red ball given that the previous ball was blue.  \n",
    "  b. Verify Bayes' theorem with the simulation results.  \n",
    "\n",
    "\n",
    "Steps  \n",
    "    a. Use random sampling to simulate the process.  \n",
    "    b. Compute conditional probabilities directly from the data.  \n"
   ]
  },
  {
   "cell_type": "code",
   "execution_count": 11,
   "id": "f96518dd-a3a5-438e-b8b7-ae386c5d8e39",
   "metadata": {},
   "outputs": [
    {
     "name": "stdout",
     "output_type": "stream",
     "text": [
      "Probability of getting red ball after blue ball 0.117\n"
     ]
    }
   ],
   "source": [
    "bag=['red','green','blue']\n",
    "trial=1000\n",
    "red=5\n",
    "blue=7\n",
    "green=8\n",
    "sum=red+blue+green\n",
    "count=0\n",
    "for i in range(trial):\n",
    "    ball_1=np.random.choice(bag)\n",
    "    ball_2=np.random.choice(bag)\n",
    "    if(ball_1=='blue' and ball_2=='red'):\n",
    "       count+=1\n",
    "count\n",
    "prob=count/trial\n",
    "print(\"Probability of getting red ball after blue ball\", prob)"
   ]
  },
  {
   "cell_type": "markdown",
   "id": "ddaacbdc-9304-4313-a349-1f1c87eb856c",
   "metadata": {},
   "source": [
    "## Random Variables and Discrete Probability\n",
    "\n",
    "\n",
    "4. Generate a sample of size 1000 from a discrete random variable with the following distribution:  \n",
    "  - P(X=1) = 0.25  \n",
    "  - P(X=2) = 0.35  \n",
    "  - P(X=3) = 0.4  \n",
    "  Compute the empirical mean, variance, and standard deviation of the sample.  \n",
    "  Steps  \n",
    "      a. Use numpy.random.choice() to generate the sample.  \n",
    "      b. Use numpy methods to calculate mean, variance, and standard deviation.\n"
   ]
  },
  {
   "cell_type": "code",
   "execution_count": 13,
   "id": "eb13d0a6-0d36-4cfe-b164-33796ee92d46",
   "metadata": {},
   "outputs": [
    {
     "name": "stdout",
     "output_type": "stream",
     "text": [
      "Empirical Mean: 2.122\n",
      "Empirical Variance: 0.6431160000000002\n",
      "Empirical Standard Deviation: 0.8019451352804631\n"
     ]
    }
   ],
   "source": [
    "outcomes = [1, 2, 3]\n",
    "probabilities = [0.25, 0.35, 0.40]\n",
    "\n",
    "sample_size = 1000\n",
    "sample = np.random.choice(outcomes, size=sample_size, p=probabilities)\n",
    "\n",
    "# Compute the empirical mean, variance, and standard deviation using numpy methods\n",
    "empirical_mean = np.mean(sample)\n",
    "empirical_variance = np.var(sample)\n",
    "empirical_std_dev = np.std(sample)\n",
    "\n",
    "print(f\"Empirical Mean: {empirical_mean}\")\n",
    "print(f\"Empirical Variance: {empirical_variance}\")\n",
    "print(f\"Empirical Standard Deviation: {empirical_std_dev}\")\n"
   ]
  },
  {
   "cell_type": "raw",
   "id": "d9bd42e2-9662-4c43-9115-f61c54045e3f",
   "metadata": {},
   "source": [
    "first create two lists one have outcomes and other have probabilities.\n",
    "then create a variable as sample_size=1000\n",
    "now we perform random choice within in given values that stored in variable sample.\n",
    "and last find the mean,variance and standard deviation using builtin funtion by NumPy library and print them.\n"
   ]
  },
  {
   "cell_type": "markdown",
   "id": "1b264c32-3128-425b-911e-cd2616acb1b2",
   "metadata": {},
   "source": [
    "## Continuous Random Variables\n",
    "\n",
    "\n",
    "5. Simulate 2000 random samples from an exponential distribution with a mean of 5. Visualize the distribution using:  \n",
    "  a. A histogram.  \n",
    "  b. A probability density function (PDF) overlay.  \n",
    "  Steps  \n",
    "      a. Use numpy.random.exponential().  \n",
    "      b. Use matplotlib to create visualizations.  \n",
    "\n",
    "\n"
   ]
  },
  {
   "cell_type": "code",
   "execution_count": 15,
   "id": "cd377b92-8e97-40a6-ad2e-75a8917786b1",
   "metadata": {},
   "outputs": [
    {
     "data": {
      "image/png": "[encoded data removed]",
      "text/plain": [
       "<Figure size 640x480 with 1 Axes>"
      ]
     },
     "metadata": {},
     "output_type": "display_data"
    }
   ],
   "source": [
    "sample_size=2000\n",
    "mean=5\n",
    "scale=mean\n",
    "sample=np.random.exponential(scale=scale,size=sample_size)\n",
    "\n",
    "plt.hist(sample, bins=30, density=True, alpha=0.6, color='g', edgecolor='black', label='Histogram')\n",
    "\n",
    "x_values = np.linspace(0, np.max(sample), 1000)\n",
    "\n",
    "pdf_values = (1/scale) * np.exp(-x_values / scale)\n",
    "plt.plot(x_values, pdf_values, label='PDF', color='r', linewidth=2)\n",
    "plt.title('Histogram and PDF Overlay of Exponential Distribution')\n",
    "plt.xlabel('Value')\n",
    "plt.ylabel('Density')\n",
    "plt.legend()\n",
    "plt.show()"
   ]
  },
  {
   "cell_type": "raw",
   "id": "57af2c2e-f32b-4001-b9f3-2eb61eca2706",
   "metadata": {},
   "source": [
    "first create variable for given data.\n",
    "-create a variable as sample to get random  exponential values.\n",
    "-now we use matplotlib.pyplot to plot histogram.\n",
    "-x_values is used to create an array of 1000 equally spaced values ranging from 0 to the     maximum value in the samples\n",
    "-to find pdf_values we use formula.\n",
    "again use matplotlib.pyplot to plot.\n",
    "we use different function to print such as labels,title.\n",
    "-legend() will print the important indications to make it easy to understand."
   ]
  },
  {
   "cell_type": "markdown",
   "id": "9f665446-b39e-4f0e-b8ef-131d86bcab5c",
   "metadata": {},
   "source": [
    "## Central Limit Theorem\n",
    "\n",
    "\n",
    "6. Simulate the Central Limit Theorem by following these steps  \n",
    "  a. Generate 10,000 random numbers from a uniform distribution.  \n",
    "  b. Draw 1000 samples of size n = 30.  \n",
    "  c. Calculate and visualize the distribution of sample means.  \n",
    "  Steps  \n",
    "      a. Use numpy.random.uniform().  \n",
    "      b. Plot both the uniform distribution and the sample mean distribution for comparison.\n",
    " \n"
   ]
  },
  {
   "cell_type": "code",
   "execution_count": 17,
   "id": "16fb4925-c43a-4b92-b5d3-1ceafa3a3a42",
   "metadata": {},
   "outputs": [
    {
     "data": {
      "text/plain": [
       "Text(0, 0.5, 'Density')"
      ]
     },
     "execution_count": 17,
     "metadata": {},
     "output_type": "execute_result"
    },
    {
     "data": {
      "image/png": "[encoded data removed]",
      "text/plain": [
       "<Figure size 1400x600 with 2 Axes>"
      ]
     },
     "metadata": {},
     "output_type": "display_data"
    }
   ],
   "source": [
    "size=10000\n",
    "uniform_data=np.random.uniform(low=0,high=1,size=size)\n",
    "\n",
    "n=30\n",
    "num_samples=1000\n",
    "sample_mean=[]\n",
    "for i in range(1000):\n",
    "    sample=np.random.choice(uniform_data,size=n)\n",
    "    new_mean=np.mean(sample)\n",
    "    sample_mean.append(new_mean)\n",
    "\n",
    "plt.figure(figsize=(14,6))\n",
    "\n",
    "plt.subplot(1,2,1)\n",
    "\n",
    "plt.hist(uniform_data,bins=50,edgecolor=\"black\",color='g')\n",
    "plt.title('Uniform Distribution')\n",
    "plt.xlabel('Value')\n",
    "plt.ylabel('Density')\n",
    "\n",
    "\n",
    "plt.subplot(1, 2, 2)\n",
    "plt.hist(sample_mean, bins=50,edgecolor='black')\n",
    "plt.title('Distribution of Sample Means (n=30)')\n",
    "plt.xlabel('Sample Mean')\n",
    "plt.ylabel('Density')\n"
   ]
  },
  {
   "cell_type": "raw",
   "id": "ddd1b684-ea1d-43c8-b92b-31271e172c66",
   "metadata": {},
   "source": [
    "First we create find random uniform data using numpy library upto 10000.\n",
    "create variables for given values.\n",
    "use for loop to choose random data as sample and find mean and store them in a list sample_mean.\n",
    "here we use subplot to show both graph in same screen which hepls us to compare them with ease.\n"
   ]
  }
 ],
 "metadata": {
  "kernelspec": {
   "display_name": "Python 3 (ipykernel)",
   "language": "python",
   "name": "python3"
  },
  "language_info": {
   "codemirror_mode": {
    "name": "ipython",
    "version": 3
   },
   "file_extension": ".py",
   "mimetype": "text/x-python",
   "name": "python",
   "nbconvert_exporter": "python",
   "pygments_lexer": "ipython3",
   "version": "3.12.4"
  }
 },
 "nbformat": 4,
 "nbformat_minor": 5
}
